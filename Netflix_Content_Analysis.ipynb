{
 "cells": [
  {
   "cell_type": "markdown",
   "metadata": {
    "id": "VeBhx9bVvLk8"
   },
   "source": [
    "##Netflix Content Strategy Analysis##\n",
    "\n",
    "\n",
    "### Objective\n",
    "This project aims to analyze Netflix’s global content library to understand patterns in content type, genre, regional focus, and release strategies. It addresses questions like:\n",
    "\n",
    "- Does Netflix prefer TV Shows or Movies?\n",
    "- Which genres dominate in key markets like the US and India?\n",
    "- Who are the most featured directors and actors?\n",
    "- How has content addition evolved over the years?\n",
    "\n",
    "###Why This Matters\n",
    "For a streaming platform like Netflix, aligning content with audience preferences across countries and genres is key to user engagement and growth. This analysis can inform:\n",
    "- Regional content strategies\n",
    "- Talent partnerships (directors, actors)\n",
    "- Seasonal release planning\n",
    "\n",
    "###Dataset\n",
    "- Source: [Kaggle Netflix Shows Dataset](https://www.kaggle.com/datasets/shivamb/netflix-shows)\n",
    "- 8,807 entries × 12 columns\n",
    "- Columns include: title, director, cast, country, date_added, rating, duration, listed_in (genre), release_year, etc.\n",
    "\n",
    "###Tools Used\n",
    "- Python (Pandas, NumPy)\n",
    "- Data Visualization: Seaborn, Matplotlib\n",
    "- Custom plotting functions for consistent visuals\n",
    "\n",
    "\n"
   ]
  },
  {
   "cell_type": "markdown",
   "metadata": {
    "id": "7au6jH7Jxd2x"
   },
   "source": [
    "###**IMPORTING DATA**"
   ]
  },
  {
   "cell_type": "code",
   "execution_count": null,
   "metadata": {
    "colab": {
     "base_uri": "https://localhost:8080/",
     "height": 466
    },
    "id": "u9-63LmAk2p8",
    "outputId": "29af41ab-d85b-41d6-917e-a0c239f81978"
   },
   "outputs": [],
   "source": [
    "import os\n",
    "import random\n",
    "import numpy as np\n",
    "import pandas as pd\n",
    "import matplotlib.pyplot as plt\n",
    "import seaborn as sns\n",
    "\n",
    "# Set seeds for reproducibility (optional unless using randomness)\n",
    "random.seed(42)\n",
    "np.random.seed(42)\n",
    "\n",
    "# Download Kaggle dataset using kagglehub (you must authenticate via Kaggle API)\n",
    "import kagglehub\n",
    "\n",
    "# Download the dataset (caches by default)\n",
    "dataset_path = kagglehub.dataset_download(\"shivamb/netflix-shows\")\n",
    "\n",
    "print(\"Dataset downloaded to:\", dataset_path)\n",
    "\n",
    "# Read the CSV file (assumes it's named 'netflix_titles.csv')\n",
    "csv_path = os.path.join(dataset_path, \"netflix_titles.csv\")\n",
    "df = pd.read_csv(csv_path)\n",
    "\n",
    "# Preview the dataset\n",
    "print(\"First 5 rows of the dataset:\")\n",
    "df.head()\n"
   ]
  },
  {
   "cell_type": "markdown",
   "metadata": {
    "id": "RfgSFvRixlcY"
   },
   "source": [
    "###**DATA CLEANING**"
   ]
  },
  {
   "cell_type": "code",
   "execution_count": null,
   "metadata": {
    "colab": {
     "base_uri": "https://localhost:8080/"
    },
    "id": "UOpktSGc9Dw6",
    "outputId": "b844ec3c-6a58-4161-981e-d3a923b40744"
   },
   "outputs": [],
   "source": [
    "df.info()"
   ]
  },
  {
   "cell_type": "markdown",
   "metadata": {
    "id": "Ov5k6mZ-Laa3"
   },
   "source": [
    "The dataset has 12 columns and 8807 rows, as can be seen. However, a small number of columns have a non-null count below that. Let's look at which columns contain null values and how many of each type of column there are."
   ]
  },
  {
   "cell_type": "code",
   "execution_count": null,
   "metadata": {
    "colab": {
     "base_uri": "https://localhost:8080/",
     "height": 460
    },
    "id": "PTm69K8O9ouq",
    "outputId": "b2c8385b-b445-459d-9f33-a05aaaba8cb0"
   },
   "outputs": [],
   "source": [
    "df.isna().sum()"
   ]
  },
  {
   "cell_type": "markdown",
   "metadata": {
    "id": "xf6Ibw2DyDFI"
   },
   "source": [
    "We find that while date_added, rating, and duration have few null values, director, cast, and country have a considerable number. To deal with the null values, we remove the less important ones, and for larger groupings, we alter the name to unknown to facilitate further processing."
   ]
  },
  {
   "cell_type": "code",
   "execution_count": null,
   "metadata": {
    "id": "vbqB5FjV-bff"
   },
   "outputs": [],
   "source": [
    "df=df.dropna(subset=['date_added'])\n",
    "df=df.dropna(subset=['rating'])\n",
    "df=df.dropna(subset=['duration'])\n",
    "df['director']=df['director'].fillna('unknown')\n",
    "df['country']=df['country'].fillna('unknown')\n",
    "df['cast']=df['cast'].fillna('unknown')\n"
   ]
  },
  {
   "cell_type": "markdown",
   "metadata": {
    "id": "b9AfCx8VUFd4"
   },
   "source": [
    "For temporal and content type analysis, we remove the `date_added`, `rating`, and `duration` rows.  We enter 'Unknown' for categorical fields such as `director`, `cast`, and `country` in order to preserve data without adding bias."
   ]
  },
  {
   "cell_type": "code",
   "execution_count": null,
   "metadata": {
    "id": "xCkxsnwMz83A"
   },
   "outputs": [],
   "source": [
    "df.columns = df.columns.str.strip()\n",
    "df.columns = df.columns.str.lower()"
   ]
  },
  {
   "cell_type": "code",
   "execution_count": null,
   "metadata": {
    "colab": {
     "base_uri": "https://localhost:8080/",
     "height": 460
    },
    "id": "BNUDkCMm-bKX",
    "outputId": "78cdb23e-8620-4d00-f009-36f6ff251a51"
   },
   "outputs": [],
   "source": [
    "df.isna().sum()"
   ]
  },
  {
   "cell_type": "markdown",
   "metadata": {
    "id": "dDojIM4nKsYZ"
   },
   "source": [
    "The amount of null values in each column has now been reduced to zero."
   ]
  },
  {
   "cell_type": "code",
   "execution_count": null,
   "metadata": {
    "colab": {
     "base_uri": "https://localhost:8080/"
    },
    "id": "fsMBIib1tLAw",
    "outputId": "eb149479-24aa-43ab-8501-9229c93dc5f4"
   },
   "outputs": [],
   "source": [
    "print(df.duplicated())\n",
    "df.drop_duplicates(inplace = True)"
   ]
  },
  {
   "cell_type": "markdown",
   "metadata": {
    "id": "HMVld5Tpy7Qg"
   },
   "source": [
    "**DATE FORMATTING**"
   ]
  },
  {
   "cell_type": "code",
   "execution_count": null,
   "metadata": {
    "id": "ODx-DKfDtUo9"
   },
   "outputs": [],
   "source": [
    "\n",
    "df['date_added'] = pd.to_datetime(df['date_added'], format='mixed', dayfirst=False, errors='coerce')\n"
   ]
  },
  {
   "cell_type": "code",
   "execution_count": null,
   "metadata": {
    "colab": {
     "base_uri": "https://localhost:8080/"
    },
    "id": "5qKiGoq4TNu4",
    "outputId": "289c61aa-4193-4e2f-aa19-92c0cdfccdbf"
   },
   "outputs": [],
   "source": [
    "df['date_added'].isna().sum()"
   ]
  },
  {
   "cell_type": "markdown",
   "metadata": {
    "id": "jh3xbc3uTVgo"
   },
   "source": [
    "All of the dates are in the right order because no null in date was inserted."
   ]
  },
  {
   "cell_type": "markdown",
   "metadata": {
    "id": "4MBnt0-oOygx"
   },
   "source": [
    "#Defining functions used in the code###"
   ]
  },
  {
   "cell_type": "code",
   "execution_count": null,
   "metadata": {
    "id": "aJGUwtrtOyNT"
   },
   "outputs": [],
   "source": [
    "import matplotlib.pyplot as plt\n",
    "import numpy as np\n",
    "\n",
    "def plot_barchart(data, labels, chart_type='vertical', title=None,\n",
    "                 xlabel=None, ylabel=None, colors=None,\n",
    "                 figsize=(10, 6), label_rotation=45,\n",
    "                 value_fontsize=10, bar_width=0.8):\n",
    "    \"\"\"\n",
    "    Enhanced bar chart with customizable colors and better label handling.\n",
    "\n",
    "    Parameters:\n",
    "    - data: List/array of numerical values\n",
    "    - labels: List of labels for each bar\n",
    "    - chart_type: 'vertical' or 'horizontal'\n",
    "    - title: Chart title (optional)\n",
    "    - xlabel: X-axis label (optional)\n",
    "    - ylabel: Y-axis label (optional)\n",
    "    - colors: Single color string or list of colors for each bar\n",
    "    - figsize: Figure size (width, height)\n",
    "    - label_rotation: Rotation angle for labels (vertical charts)\n",
    "    - value_fontsize: Font size for values on bars\n",
    "    - bar_width: Width of bars (0-1)\n",
    "    \"\"\"\n",
    "\n",
    "    plt.figure(figsize=figsize)\n",
    "\n",
    "    # Handle colors - default to skyblue if not specified\n",
    "    if colors is None:\n",
    "        colors = 'skyblue'\n",
    "    elif isinstance(colors, str):\n",
    "        colors = [colors] * len(data)\n",
    "\n",
    "    if chart_type == 'vertical':\n",
    "        bars = plt.bar(labels, data, color=colors, width=bar_width)\n",
    "        plt.xlabel(xlabel)\n",
    "        plt.ylabel(ylabel)\n",
    "\n",
    "        # Rotate labels to prevent overlap\n",
    "        plt.xticks(rotation=label_rotation, ha='right')\n",
    "\n",
    "        # Add values on bars\n",
    "        for bar in bars:\n",
    "            height = bar.get_height()\n",
    "            plt.text(bar.get_x() + bar.get_width()/2, height,\n",
    "                    f'{height}', ha='center', va='bottom',\n",
    "                    fontsize=value_fontsize)\n",
    "\n",
    "    elif chart_type == 'horizontal':\n",
    "        bars = plt.barh(labels, data, color=colors, height=bar_width)\n",
    "        plt.xlabel(ylabel)\n",
    "        plt.ylabel(xlabel)\n",
    "\n",
    "        # Add values on bars\n",
    "        for bar in bars:\n",
    "            width = bar.get_width()\n",
    "            plt.text(width, bar.get_y() + bar.get_height()/2,\n",
    "                    f'{width}', va='center', ha='left',\n",
    "                    fontsize=value_fontsize)\n",
    "    else:\n",
    "        raise ValueError(\"chart_type must be 'vertical' or 'horizontal'\")\n",
    "\n",
    "    if title:\n",
    "        plt.title(title, pad=20)\n",
    "\n",
    "    plt.tight_layout()\n",
    "    plt.show()"
   ]
  },
  {
   "cell_type": "markdown",
   "metadata": {
    "id": "xhwhfsq1y-S8"
   },
   "source": [
    "###**DATA VISUALISATION**"
   ]
  },
  {
   "cell_type": "markdown",
   "metadata": {
    "id": "dpADGUkczCMg"
   },
   "source": [
    "###**RATIO OF MOVIES  TO TV SHOWS**"
   ]
  },
  {
   "cell_type": "code",
   "execution_count": null,
   "metadata": {
    "colab": {
     "base_uri": "https://localhost:8080/",
     "height": 606
    },
    "id": "u0Oq7gw8Q8eD",
    "outputId": "108fe5cd-02f6-46f5-dee1-f17cb65be365"
   },
   "outputs": [],
   "source": [
    "plot_barchart(df_p.values, df_p.index, chart_type='vertical', title='RATIO OF MOVIES TO TV SHOWS',\n",
    "                 xlabel='Netflix shows', ylabel='number of shows', colors=['blue', 'red'],\n",
    "                 figsize=(10, 6), label_rotation=45,\n",
    "                 value_fontsize=10, bar_width=0.8)"
   ]
  },
  {
   "cell_type": "markdown",
   "metadata": {
    "id": "zAyImTsnzRqQ"
   },
   "source": [
    "We may conclude that Netflix favours movies over television shows because there is a notable discrepancy between the two. This could be because television shows require a lot more time and resources than movies."
   ]
  },
  {
   "cell_type": "code",
   "execution_count": null,
   "metadata": {
    "colab": {
     "base_uri": "https://localhost:8080/",
     "height": 591
    },
    "id": "NhmAw5gEIoHs",
    "outputId": "89ea550c-90e9-4834-d7f5-35dd1bae1485"
   },
   "outputs": [],
   "source": [
    "df_ct = df[['country', 'type']].dropna()\n",
    "df_ct['country'] = df_ct['country'].str.split(', ')\n",
    "df_ct = df_ct.explode('country')\n",
    "df_ct=df_ct[df_ct['country'] != 'unknown']\n",
    "top_countries = df_ct['country'].value_counts().nlargest(10).index\n",
    "df_ct_top = df_ct[df_ct['country'].isin(top_countries)]\n",
    "\n",
    "plt.figure(figsize=(12,6))\n",
    "sns.countplot(data=df_ct_top, y='country', hue='type', order=top_countries, palette='Set2')\n",
    "plt.title('Top 10 Countries by Content Type on Netflix')\n",
    "plt.xlabel('Number of Titles')\n",
    "plt.ylabel('Country')\n",
    "plt.legend(title='Type')\n",
    "plt.tight_layout()\n",
    "plt.show()\n"
   ]
  },
  {
   "cell_type": "markdown",
   "metadata": {
    "id": "hC-mEtC5Iyhn"
   },
   "source": [
    "The United States produces the most films and television series, followed by India, which produces a very small amount of television series. This indicates that, according to Netflix, Indians do not enjoy television shows as much as people in other nations, while Americans enjoy both but still incline towards films."
   ]
  },
  {
   "cell_type": "code",
   "execution_count": null,
   "metadata": {
    "colab": {
     "base_uri": "https://localhost:8080/",
     "height": 506
    },
    "id": "eV--ozuEmg8o",
    "outputId": "52da9c98-d3bf-48e8-b403-10384e880147"
   },
   "outputs": [],
   "source": [
    "# Step 1: Filter rows with 'United States' in the country column\n",
    "df_us = df[df['country'].str.contains('United States', na=False)].copy()\n",
    "\n",
    "# Step 2: Split multiple genres and explode\n",
    "df_us['listed_in'] = df_us['listed_in'].str.split(', ')\n",
    "df_us = df_us.explode('listed_in')\n",
    "\n",
    "# Step 3: Count top 3 genres\n",
    "top_us_genres = df_us['listed_in'].value_counts().head(3)\n",
    "\n",
    "# Step 4: Plot using your custom function\n",
    "plot_barchart(\n",
    "    data=top_us_genres.values,\n",
    "    labels=top_us_genres.index,\n",
    "    chart_type='vertical',\n",
    "    title='Top 3 Genres in the United States',\n",
    "    xlabel='Genre',\n",
    "    ylabel='Number of Titles',\n",
    "    colors='salmon',\n",
    "    figsize=(8, 5),\n",
    "    label_rotation=30,\n",
    "    value_fontsize=10,\n",
    "    bar_width=0.6\n",
    ")\n"
   ]
  },
  {
   "cell_type": "markdown",
   "metadata": {
    "id": "_0XTV5t7nFhf"
   },
   "source": [
    "Since the US is the top country for Netflix services, it primarily offers comedies, dramas, and light-hearted documentaries."
   ]
  },
  {
   "cell_type": "code",
   "execution_count": null,
   "metadata": {
    "colab": {
     "base_uri": "https://localhost:8080/",
     "height": 506
    },
    "id": "FVPYx69YmiiW",
    "outputId": "96a90fb1-1262-4fe7-bd95-7487b38a9042"
   },
   "outputs": [],
   "source": [
    "# Step 1: Filter rows with 'United States' in the country column\n",
    "df_us = df[df['country'].str.contains('India', na=False)].copy()\n",
    "\n",
    "# Step 2: Split multiple genres and explode\n",
    "df_us['listed_in'] = df_us['listed_in'].str.split(', ')\n",
    "df_us = df_us.explode('listed_in')\n",
    "\n",
    "# Step 3: Count top 3 genres\n",
    "top_us_genres = df_us['listed_in'].value_counts().head(3)\n",
    "\n",
    "# Step 4: Plot using your custom function\n",
    "plot_barchart(\n",
    "    data=top_us_genres.values,\n",
    "    labels=top_us_genres.index,\n",
    "    chart_type='vertical',\n",
    "    title='Top 3 Genres in the India',\n",
    "    xlabel='Genre',\n",
    "    ylabel='Number of Titles',\n",
    "    colors='salmon',\n",
    "    figsize=(8, 5),\n",
    "    label_rotation=30,\n",
    "    value_fontsize=10,\n",
    "    bar_width=0.6\n",
    ")\n"
   ]
  },
  {
   "cell_type": "markdown",
   "metadata": {
    "id": "7rcMBDXSWQ4J"
   },
   "source": [
    "Netflix produces more comedies, dramas, and films because India, the second-largest Netflix user base, imports these types of content.  Given that Netflix has a far higher quantity of TV series in India than in other countries, we might infer that the streaming service creates genre specifically for television programming."
   ]
  },
  {
   "cell_type": "markdown",
   "metadata": {
    "id": "KVxkOyRbBJbD"
   },
   "source": [
    "**TOP DIRECTOR**"
   ]
  },
  {
   "cell_type": "code",
   "execution_count": null,
   "metadata": {
    "colab": {
     "base_uri": "https://localhost:8080/"
    },
    "id": "9e_o6vCfGExw",
    "outputId": "6b165245-d33f-4f38-b118-592520cfdb5a"
   },
   "outputs": [],
   "source": [
    "print(df['director'].nunique())\n"
   ]
  },
  {
   "cell_type": "markdown",
   "metadata": {
    "id": "fwBMhUYGIH5a"
   },
   "source": [
    "In this dataset, there are 4527 distinct directors. There are far too many unknown filmmakers.   Let's keep the unknown out of the discussions for the time being."
   ]
  },
  {
   "cell_type": "code",
   "execution_count": null,
   "metadata": {
    "colab": {
     "base_uri": "https://localhost:8080/",
     "height": 801
    },
    "id": "cgQOwS4-FbJf",
    "outputId": "85706c3b-aab9-44ac-d431-1ad1da6ca059"
   },
   "outputs": [],
   "source": [
    "# Filter out any variation of 'Unknown' (case insensitive)\n",
    "df_known_directors = df[~df['director'].str.lower().str.contains('unknown')]\n",
    "\n",
    "# Get top 5 directors\n",
    "top_directors = (df_known_directors.groupby('director')\n",
    "                                  .size()\n",
    "                                  .reset_index(name='count')\n",
    "                                  .sort_values(by='count', ascending=False)\n",
    "                                  .head(20))\n",
    "\n",
    "# Create pie chart\n",
    "plt.figure(figsize=(8, 8))\n",
    "plt.pie(top_directors['count'],\n",
    "        labels=top_directors['director'],\n",
    "        autopct='%1.0f%%',\n",
    "        startangle=140)\n",
    "plt.title('Top 5 Directors by Number of Netflix Shows')\n",
    "plt.axis('equal')\n",
    "plt.tight_layout()\n",
    "plt.show()"
   ]
  },
  {
   "cell_type": "markdown",
   "metadata": {
    "id": "4ZhTRCaM0cBZ"
   },
   "source": [
    "Netflix has made reasonable investments in the majority of the top filmmakers seen in the graph, however some have more opportunities than others with minimal difference."
   ]
  },
  {
   "cell_type": "code",
   "execution_count": null,
   "metadata": {
    "colab": {
     "base_uri": "https://localhost:8080/",
     "height": 606
    },
    "id": "WB22epmhGwJ8",
    "outputId": "d102aef4-0dec-4d97-9814-6707eafff08c"
   },
   "outputs": [],
   "source": [
    "df_p=df['type'].value_counts()\n",
    "\n",
    "\n",
    "\n",
    "plot_barchart(top_directors['count'],top_directors['director'], chart_type='vertical', title='TOP DIRECTORS',\n",
    "                 xlabel='Director names', ylabel='number of shows', colors='blue',\n",
    "                 figsize=(10, 6), label_rotation=45,\n",
    "                 value_fontsize=10, bar_width=0.8)"
   ]
  },
  {
   "cell_type": "markdown",
   "metadata": {
    "id": "Oo7Qbx9aLFhV"
   },
   "source": [
    "This leads us to the conclusion that Netflix loves filmmakers like Rajiv Chilaka and Jan Suter because they have a lot more shows than others, which may also indicate that viewers enjoy their direction."
   ]
  },
  {
   "cell_type": "markdown",
   "metadata": {
    "id": "45Y-QRYlSZ7L"
   },
   "source": [
    "###**TOP MOVIE DIRECTORS**"
   ]
  },
  {
   "cell_type": "code",
   "execution_count": null,
   "metadata": {
    "id": "ie22ic7sZqSz"
   },
   "outputs": [],
   "source": [
    "import matplotlib.pyplot as plt\n",
    "\n",
    "def top_director_plot(df, content_type='Movie'):\n",
    "    dfp = df.copy()\n",
    "\n",
    "    # Remove unknown and NaN directors\n",
    "    dfp = dfp[dfp['director'].notna()]\n",
    "    dfp = dfp[~dfp['director'].str.lower().str.contains('unknown')]\n",
    "\n",
    "    # Explode multi-director rows\n",
    "    dfp['director'] = dfp['director'].str.split(', ')\n",
    "    dfp = dfp.explode('director')\n",
    "\n",
    "    # Count total titles for each director (any type)\n",
    "    total_counts = dfp['director'].value_counts()\n",
    "\n",
    "    # Count content-type-specific titles for each director\n",
    "    type_counts = dfp[dfp['type'] == content_type]['director'].value_counts()\n",
    "\n",
    "    # Get top 10 based on content_type count\n",
    "    top_directors = type_counts.head(10).index\n",
    "\n",
    "    # Filter both series to include only top 10 directors\n",
    "    type_counts_top = type_counts[top_directors]\n",
    "    total_counts_top = total_counts[top_directors]\n",
    "\n",
    "    # Create grouped bar chart\n",
    "    x = range(len(top_directors))\n",
    "    width = 0.35\n",
    "\n",
    "    plt.figure(figsize=(12, 6))\n",
    "    plt.bar(x, type_counts_top.values, width=width, label=content_type, color='skyblue')\n",
    "    plt.bar([i + width for i in x], total_counts_top.values, width=width, label='Total', color='gray')\n",
    "\n",
    "    plt.xticks([i + width/2 for i in x], top_directors, rotation=45, ha='right')\n",
    "    plt.xlabel('Director')\n",
    "    plt.ylabel('Number of Titles')\n",
    "    plt.title(f'Top 10 Directors by Number of {content_type}s vs Total Titles')\n",
    "    plt.legend()\n",
    "    plt.tight_layout()\n",
    "    plt.show()\n"
   ]
  },
  {
   "cell_type": "code",
   "execution_count": null,
   "metadata": {
    "colab": {
     "base_uri": "https://localhost:8080/",
     "height": 591
    },
    "id": "FW8nXCtPZ6OX",
    "outputId": "f7f6839b-dcf3-40f0-c3f8-92c718a93bf4"
   },
   "outputs": [],
   "source": [
    "top_director_plot(df,'TV Show')\n"
   ]
  },
  {
   "cell_type": "code",
   "execution_count": null,
   "metadata": {
    "colab": {
     "base_uri": "https://localhost:8080/",
     "height": 591
    },
    "id": "JoDHG3dOaDsx",
    "outputId": "5a8199b2-6ce2-481a-8e9c-db117976ae3d"
   },
   "outputs": [],
   "source": [
    "top_director_plot(df,'Movie')\n"
   ]
  },
  {
   "cell_type": "markdown",
   "metadata": {
    "id": "HooiTWwrUaBo"
   },
   "source": [
    "We can infer from the two graphs above that Netflix and filmmakers prefer to produce films.  We can see that the total number of published films and TV series is equal to the total number of films because television shows require more director time than films. with certain exceptions, such as  Marcus Raboy"
   ]
  },
  {
   "cell_type": "code",
   "execution_count": null,
   "metadata": {
    "colab": {
     "base_uri": "https://localhost:8080/",
     "height": 595
    },
    "id": "992M3AkxJh5G",
    "outputId": "9afffd88-b03a-43b2-db59-1b2a5c1d61b9"
   },
   "outputs": [],
   "source": [
    "df_dg = df[['director', 'listed_in']].dropna()\n",
    "\n",
    "# Remove rows where 'director' or 'listed_in' is \"Unknown\"\n",
    "df_dg = df_dg[~df_dg['director'].str.lower().str.contains('unknown')]\n",
    "df_dg = df_dg[~df_dg['listed_in'].str.lower().str.contains('unknown')]\n",
    "\n",
    "# Split genres and explode\n",
    "df_dg['listed_in'] = df_dg['listed_in'].str.split(', ')\n",
    "df_dg = df_dg.explode('listed_in')\n",
    "\n",
    "# Get top 10 directors\n",
    "top_directors = df_dg['director'].value_counts().nlargest(10).index\n",
    "df_dg_top = df_dg[df_dg['director'].isin(top_directors)]\n",
    "\n",
    "# Plot\n",
    "plt.figure(figsize=(14,7))\n",
    "sns.countplot(data=df_dg_top, y='director', hue='listed_in', palette='tab20')\n",
    "plt.title('Top 10 Directors and Their Genres')\n",
    "plt.xlabel('Number of Titles')\n",
    "plt.ylabel('Director')\n",
    "plt.legend(title='Genre', bbox_to_anchor=(1.05, 1), loc='upper left')\n",
    "plt.tight_layout()\n",
    "plt.show()\n"
   ]
  },
  {
   "cell_type": "markdown",
   "metadata": {
    "id": "oBrcIrM_KAIH"
   },
   "source": [
    "The majority of Suhas Kadav's family and children's films, Catherine Garcia Molina's foreign flicks, and Youseff Chahinne's dramas"
   ]
  },
  {
   "cell_type": "markdown",
   "metadata": {
    "id": "TcBtni-3IgN3"
   },
   "source": [
    "###**FAMOUS  ACTOR**"
   ]
  },
  {
   "cell_type": "markdown",
   "metadata": {
    "id": "qk1_X8d_1K3H"
   },
   "source": [
    "Let's exclude all the other minor artists and attempt to focus on the primary cast, as the first name in the list of characters typically plays the lead role."
   ]
  },
  {
   "cell_type": "code",
   "execution_count": null,
   "metadata": {
    "id": "ax8Pe7U-IZIw"
   },
   "outputs": [],
   "source": [
    "df['cast'] = df['cast'].str.split(',').str[0].str.strip()"
   ]
  },
  {
   "cell_type": "code",
   "execution_count": null,
   "metadata": {
    "colab": {
     "base_uri": "https://localhost:8080/"
    },
    "id": "yrC4lej-RlPD",
    "outputId": "8639fcec-1fc6-4ebe-9b1c-3e2800b203e1"
   },
   "outputs": [],
   "source": [
    "df['cast'].nunique()"
   ]
  },
  {
   "cell_type": "code",
   "execution_count": null,
   "metadata": {
    "colab": {
     "base_uri": "https://localhost:8080/",
     "height": 606
    },
    "id": "a8fFqamZRr00",
    "outputId": "27d38565-5ab2-4bc9-f728-da3d650f7ea3"
   },
   "outputs": [],
   "source": [
    "df_known_cast= df[~df['cast'].str.lower().str.contains('unknown')]\n",
    "\n",
    "\n",
    "top_cast = (df_known_cast.groupby('cast')\n",
    "                                  .size()\n",
    "                                  .reset_index(name='count')\n",
    "                                  .sort_values(by='count', ascending=False)\n",
    "                                  .head(20))\n",
    "plot_barchart(top_cast['count'], top_cast['cast'], chart_type='vertical', title='Top 5 actors by netflix shoows',\n",
    "                 xlabel='cast', ylabel='number of Netflix shows', colors='red',\n",
    "                 figsize=(10, 6), label_rotation=45,\n",
    "                 value_fontsize=10, bar_width=0.8)"
   ]
  },
  {
   "cell_type": "markdown",
   "metadata": {
    "id": "1vswclUsScCJ"
   },
   "source": [
    "\n",
    "Actors like david,john micheal appears in 35+ shows, indicating a strong partnership with Netflix or high reusability in content. Further investigation could link this to regional popularity or genre-based casting patterns."
   ]
  },
  {
   "cell_type": "code",
   "execution_count": null,
   "metadata": {
    "colab": {
     "base_uri": "https://localhost:8080/",
     "height": 606
    },
    "id": "_d7vPsghchCE",
    "outputId": "59455abe-8c5e-4b61-db01-affb483aef53"
   },
   "outputs": [],
   "source": [
    "\n",
    "df_known_movie_country = df[\n",
    "    (df['type'] == 'Movie') &\n",
    "    (~df['country'].str.lower().str.contains('unknown', na=False))\n",
    "]\n",
    "\n",
    "# Group by country and count\n",
    "top_movie_country = (\n",
    "    df_known_movie_country.groupby('country')\n",
    "    .size()\n",
    "    .reset_index(name='count')\n",
    "    .sort_values('count', ascending=False)\n",
    "    .head(5)\n",
    ")\n",
    "plot_barchart(top_movie_country['count'], top_movie_country['country'], chart_type='vertical', title='Top 5 countries with highest number of  by netflix shows',\n",
    "                 xlabel='country', ylabel='number of Netflix movie', colors='skyblue',\n",
    "                 figsize=(10, 6), label_rotation=45,\n",
    "                 value_fontsize=10, bar_width=0.8)\n",
    "\n"
   ]
  },
  {
   "cell_type": "markdown",
   "metadata": {
    "id": "NnMaxcYK2kTM"
   },
   "source": [
    "The United States is the top producer of both films and television series, while South Korea created a lot more television series and others stayed the same. India produces less television series than films."
   ]
  },
  {
   "cell_type": "markdown",
   "metadata": {
    "id": "AEQHBnN7ejdu"
   },
   "source": [
    "###**RELEASE YEAR**"
   ]
  },
  {
   "cell_type": "code",
   "execution_count": null,
   "metadata": {
    "colab": {
     "base_uri": "https://localhost:8080/",
     "height": 507
    },
    "id": "hk0SR1LhuXsc",
    "outputId": "7d534a07-013d-4523-9d13-299e7d88ca9b"
   },
   "outputs": [],
   "source": [
    "df.groupby(['release_year', 'type']).size().unstack().plot(kind='line', figsize=(10,5))\n",
    "plt.title('Release Trend by Year and Content Type')\n",
    "plt.xlabel('Year')\n",
    "plt.ylabel('Number of Titles')\n",
    "plt.tight_layout()\n",
    "plt.show()"
   ]
  },
  {
   "cell_type": "markdown",
   "metadata": {
    "id": "i8Dq4WyRufKN"
   },
   "source": [
    "Early technology led to low production, which later increased rapidly before declining as a result of the corona"
   ]
  },
  {
   "cell_type": "code",
   "execution_count": null,
   "metadata": {
    "colab": {
     "base_uri": "https://localhost:8080/",
     "height": 507
    },
    "id": "kDOdy0Eaua4C",
    "outputId": "5e5ad468-d195-4aca-a4be-d6a32e26bbbb"
   },
   "outputs": [],
   "source": [
    "df['date_added'] = pd.to_datetime(df['date_added'])\n",
    "df['month_added'] = df['date_added'].dt.month_name()\n",
    "\n",
    "monthly = df['month_added'].value_counts().reindex([\n",
    "    'January', 'February', 'March', 'April', 'May', 'June',\n",
    "    'July', 'August', 'September', 'October', 'November', 'December'\n",
    "])\n",
    "\n",
    "monthly.plot(kind='bar', figsize=(10, 5), color='orchid')\n",
    "plt.title('Netflix Titles Added by Month')\n",
    "plt.xlabel('Month')\n",
    "plt.ylabel('Number of Titles')\n",
    "plt.tight_layout()\n",
    "plt.show()\n",
    "\n"
   ]
  },
  {
   "cell_type": "markdown",
   "metadata": {
    "id": "l-0DlS6bJLuD"
   },
   "source": [
    "Since audiences are more eager to watch, most shows are released during the end of season and festival seasons."
   ]
  },
  {
   "cell_type": "markdown",
   "metadata": {
    "id": "o2RXyumc8G0n"
   },
   "source": [
    "###**GENRE**"
   ]
  },
  {
   "cell_type": "code",
   "execution_count": null,
   "metadata": {
    "colab": {
     "base_uri": "https://localhost:8080/",
     "height": 466
    },
    "id": "ih8g7KNFigCQ",
    "outputId": "57e42e56-bd61-418c-c989-3ad7be075e23"
   },
   "outputs": [],
   "source": [
    "df.head()"
   ]
  },
  {
   "cell_type": "code",
   "execution_count": null,
   "metadata": {
    "colab": {
     "base_uri": "https://localhost:8080/",
     "height": 606
    },
    "id": "0H-obrgL8Gfh",
    "outputId": "aafe0cc4-3cb0-420c-aab0-60ad6703eb49"
   },
   "outputs": [],
   "source": [
    "df_known_genre= df[~df['listed_in'].str.lower().str.contains('unknown')]\n",
    "\n",
    "\n",
    "top_genres = (df_known_genre.groupby('listed_in')\n",
    "                                  .size()\n",
    "                                  .reset_index(name='count')\n",
    "                                  .sort_values(by='count', ascending=False)\n",
    "                                  .head(20))\n",
    "plot_barchart(top_genres['count'], top_genres['listed_in'], chart_type='vertical', title='GENRE',\n",
    "                 xlabel='genre', ylabel='number of Netflix shows in the genre', colors='red',\n",
    "                 figsize=(10, 6), label_rotation=45,\n",
    "                 value_fontsize=10, bar_width=0.8)"
   ]
  },
  {
   "cell_type": "markdown",
   "metadata": {
    "id": "0LeM1jJvGbCT"
   },
   "source": [
    "Netflix's most sought-after genres are international films, dramas, and comedies, which makes sense given that these are the genres most frequently viewed in the top countries, according to Netflix."
   ]
  },
  {
   "cell_type": "markdown",
   "metadata": {
    "id": "JABboEYW8Scu"
   },
   "source": [
    "###**RATING**"
   ]
  },
  {
   "cell_type": "code",
   "execution_count": null,
   "metadata": {
    "colab": {
     "base_uri": "https://localhost:8080/",
     "height": 606
    },
    "id": "f7k4qLWS8UhH",
    "outputId": "5d6cc921-9697-4789-e08c-6369a73398a3"
   },
   "outputs": [],
   "source": [
    "rating_counts = df['rating'].value_counts().head(20).reset_index()\n",
    "rating_counts.columns = ['rating', 'count']\n",
    "\n",
    "\n",
    "\n",
    "\n",
    "plot_barchart(rating_counts['count'], rating_counts['rating'], chart_type='vertical', title='Top 10 Content Ratings on Netflix',\n",
    "                 xlabel='Rating', ylabel='Number of Titles', colors='red',\n",
    "                 figsize=(10, 6), label_rotation=45,\n",
    "                 value_fontsize=10, bar_width=0.8)\n"
   ]
  },
  {
   "cell_type": "markdown",
   "metadata": {
    "id": "XU1exHw7NFRa"
   },
   "source": [
    "TV-MA is the most watched rating which can also mean netflix is used by adults more thus adults are its main customer base."
   ]
  },
  {
   "cell_type": "code",
   "execution_count": null,
   "metadata": {
    "colab": {
     "base_uri": "https://localhost:8080/",
     "height": 594
    },
    "id": "dxMaWlUsG185",
    "outputId": "3b72d13c-851b-49dc-9e90-3442d169a4a1"
   },
   "outputs": [],
   "source": [
    "df_genre_rating = df[['listed_in', 'rating']].dropna()\n",
    "\n",
    "# Split multi-genre entries and explode into rows\n",
    "df_genre_rating['listed_in'] = df_genre_rating['listed_in'].str.split(', ')\n",
    "df_genre_rating = df_genre_rating.explode('listed_in')\n",
    "\n",
    "# Optionally limit to top 10 genres\n",
    "top_genres = df_genre_rating['listed_in'].value_counts().nlargest(10).index\n",
    "df_top = df_genre_rating[df_genre_rating['listed_in'].isin(top_genres)]\n",
    "import matplotlib.pyplot as plt\n",
    "import seaborn as sns\n",
    "# Create count plot\n",
    "plt.figure(figsize=(12, 6))\n",
    "sns.countplot(data=df_top, y='listed_in', hue='rating', order=top_genres, palette='tab10')\n",
    "plt.title('Rating Distribution across Top 10 Genres on Netflix')\n",
    "plt.xlabel('Number of Titles')\n",
    "plt.ylabel('Genre')\n",
    "plt.legend(title='Rating', bbox_to_anchor=(1.05, 1), loc='upper left')\n",
    "plt.tight_layout()\n",
    "plt.show()"
   ]
  },
  {
   "cell_type": "markdown",
   "metadata": {
    "id": "up5Dj2oH8v-6"
   },
   "source": [
    "Due to its international movies,dramas,tv dramas  many other genres having mostly TV-MA rating, TV-MA productions are much more popular than others."
   ]
  },
  {
   "cell_type": "markdown",
   "metadata": {
    "id": "qaEzeAMr8aaj"
   },
   "source": [
    "###**DURATION**"
   ]
  },
  {
   "cell_type": "code",
   "execution_count": null,
   "metadata": {
    "colab": {
     "base_uri": "https://localhost:8080/",
     "height": 487
    },
    "id": "pVqkSjFi8cU7",
    "outputId": "012736e0-5938-4c18-c9e6-72edefa74ed8"
   },
   "outputs": [],
   "source": [
    "# Filter only movies\n",
    "df_movies = df[df['type'] == 'Movie'].copy()\n",
    "\n",
    "# Extract the numeric duration\n",
    "df_movies['duration_min'] = df_movies['duration'].str.extract('(\\d+)').astype(float)\n",
    "\n",
    "# Plot histogram of movie durations\n",
    "plt.hist(df_movies['duration_min'], bins=20, color='darkorange', edgecolor='black')\n",
    "plt.title('Distribution of Movie Durations')\n",
    "plt.xlabel('Duration (minutes)')\n",
    "plt.ylabel('Number of Movies')\n",
    "plt.tight_layout()\n",
    "plt.show()\n",
    "\n"
   ]
  },
  {
   "cell_type": "markdown",
   "metadata": {
    "id": "2RKf6N2q8foo"
   },
   "source": [
    "We may estimate that the shows last for about 100 minutes."
   ]
  },
  {
   "cell_type": "markdown",
   "metadata": {
    "id": "jWK_jlw7ut9u"
   },
   "source": [
    "Production rises over the holidays or at the end of the season."
   ]
  },
  {
   "cell_type": "markdown",
   "metadata": {
    "id": "fknowerBfhwJ"
   },
   "source": [
    "##**Summary & Insights**\n",
    "\n",
    "- Netflix's content library is heavily skewed toward **movies**, which make up the majority of titles, possibly due to their shorter production cycles compared to TV shows.\n",
    "\n",
    "\n",
    "\n",
    "- The most prolific directors include both globally recognized filmmakers and regional content contributors, though many titles lack credited directors.\n",
    "\n",
    "\n",
    "\n",
    "- **United States** and **India** are the leading countries in terms of total content, with **South Korea** producing a notably high number of TV shows.\n",
    "\n",
    "\n",
    "\n",
    "- The most frequent actors appearing in Netflix content tend to be from regional markets, reflecting Netflix’s diverse and localized content strategy.\n",
    "\n",
    "\n",
    "- A sharp rise in releases occurred post-2015, peaking around 2018–2019, followed by a dip likely due to the global pandemic.\n",
    "\n",
    "\n",
    "- Content additions show a trend of increasing uploads during year-end months, possibly to align with holiday demand.\n",
    "\n",
    "\n",
    "- Missing values were carefully handled (e.g., using `'unknown'` or dropping), and visualizations were used to support every major insight.\n",
    "\n",
    "---\n",
    "\n",
    "This project demonstrates practical skills in:\n",
    "- Data cleaning (handling missing/dirty values)\n",
    "- Grouping and filtering using Pandas\n",
    "- Visualizing trends using pie charts, bar charts, and time plots\n",
    "- Asking and answering real business-like questions with data\n",
    "\n",
    "\n"
   ]
  },
  {
   "cell_type": "markdown",
   "metadata": {
    "id": "PUWzDmnieuqW"
   },
   "source": [
    "Country + Type\n",
    "\n",
    "Year + Type\n",
    "\n",
    "Director + Genre (if available)"
   ]
  }
 ],
 "metadata": {
  "colab": {
   "provenance": []
  },
  "kernelspec": {
   "display_name": "Python 3",
   "name": "python3"
  },
  "language_info": {
   "name": "python"
  }
 },
 "nbformat": 4,
 "nbformat_minor": 0
}
